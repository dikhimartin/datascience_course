{
 "cells": [
  {
   "cell_type": "markdown",
   "metadata": {},
   "source": [
    "**Naïve Bayesian untuk Klasifikasi Transportasi Karyawan:**"
   ]
  },
  {
   "cell_type": "markdown",
   "metadata": {},
   "source": [
    "**1. Pendahuluan:**\n",
    "\n",
    "Dalam kasus ini, kita akan menggunakan metode Naïve Bayesian untuk mengklasifikasikan jenis transportasi yang digunakan oleh karyawan suatu perusahaan berdasarkan beberapa atribut seperti jenis kelamin, umur, gaji, status, dan transportasi sebelumnya.\n",
    "\n",
    "**2. Data Karyawan:**\n",
    "\n",
    "Berikut adalah data karyawan yang akan kita gunakan untuk melatih model dan memprediksi jenis transportasi untuk dua data baru:\n",
    "\n",
    "| No.  | Jenis Kelamin | Umur Karyawan | Gaji       | Status  | Transportasi      |\n",
    "| ---- | ------------- | ------------- | ---------- | ------- | ----------------- |\n",
    "| 1    | Laki-Laki     | 20            | 8.000.000  | Single  | Kendaraan pribadi |\n",
    "| 2    | Laki-Laki     | 35            | 14.000.000 | Single  | Kendaraan umum    |\n",
    "| 3    | Perempuan     | 26            | 10.000.000 | Single  | Kendaraan umum    |\n",
    "| 4    | Perempuan     | 27            | 12.000.000 | Menikah | Kendaraan pribadi |\n",
    "| 5    | Laki-Laki     | 21            | 9.000.000  | Single  | Kendaraan pribadi |\n",
    "| 6    | Laki-Laki     | 22            | 11.000.000 | Single  | Kendaraan pribadi |\n",
    "| 7    | Perempuan     | 32            | 15.000.000 | Menikah | Kendaraan umum    |\n",
    "| 8    | Perempuan     | 26            | 8.000.000  | Menikah | Kendaraan umum    |\n",
    "| 9    | Laki-Laki     | 25            | 9.000.000  | Single  | Kendaraan umum    |\n",
    "| 10   | Perempuan     | 20            | 10.000.000 | Single  | Kendaraan pribadi |\n",
    "| 11   | Perempuan     | 27            | 12.000.000 | Single  | ?                 |\n",
    "| 12   | Laki-Laki     | 35            | 14.000.000 | Menikah | ?                 |"
   ]
  },
  {
   "cell_type": "markdown",
   "metadata": {},
   "source": [
    "**3. Implementasi Naïve Bayesian:**"
   ]
  },
  {
   "cell_type": "markdown",
   "metadata": {},
   "source": [
    "**3.1. Import Library dan Fungsi Tokenisasi:**\n",
    "\n",
    "Dalam langkah ini, kita mengimpor pustaka yang diperlukan dan mendefinisikan fungsi khusus yang akan digunakan dalam proses tokenisasi.\n"
   ]
  },
  {
   "cell_type": "code",
   "execution_count": 2,
   "metadata": {},
   "outputs": [],
   "source": [
    "from typing import NamedTuple, Set\n",
    "import re"
   ]
  },
  {
   "cell_type": "markdown",
   "metadata": {},
   "source": [
    "Fungsi `tokenize` diimplementasikan untuk memecah teks menjadi token (kata-kata unik) dan mengembalikan set dari token tersebut. Proses tokenisasi sangat penting dalam konteks ini karena membantu mengubah teks, seperti atribut karyawan, menjadi bentuk yang dapat diolah lebih lanjut oleh model Naïve Bayesian."
   ]
  },
  {
   "cell_type": "code",
   "execution_count": 3,
   "metadata": {},
   "outputs": [],
   "source": [
    "def tokenize(text: str) -> Set[str]:\n",
    "    text = text.lower()                         # Mengubah teks menjadi huruf kecil,\n",
    "    all_words = re.findall(\"[a-z0-9']+\", text)  # mengekstrak kata-kata, dan\n",
    "    return set(all_words)                       # mengembalikan set kata unik."
   ]
  },
  {
   "cell_type": "markdown",
   "metadata": {},
   "source": [
    "Fungsi ini berkontribusi pada persiapan data untuk melatih dan memprediksi model, dengan memungkinkan representasi token dari teks.\n"
   ]
  },
  {
   "cell_type": "markdown",
   "metadata": {},
   "source": [
    "**3.2. Definisi Kelas Message dan NaiveBayesClassifier:**\n",
    "\n",
    "Dalam langkah ini, kita mendefinisikan kelas `Message` untuk merepresentasikan pesan atau data yang akan digunakan dalam pelatihan model. Kelas `NaiveBayesClassifier` adalah implementasi dari model Naïve Bayesian untuk klasifikasi."
   ]
  },
  {
   "cell_type": "code",
   "execution_count": 5,
   "metadata": {},
   "outputs": [],
   "source": [
    "from typing import List, Tuple, Dict, Iterable\n",
    "import math\n",
    "from collections import defaultdict\n",
    "\n",
    "class Message(NamedTuple):\n",
    "    text: str\n",
    "    is_spam: bool\n",
    "\n",
    "class NaiveBayesClassifier:\n",
    "    def __init__(self, k: float = 0.5) -> None:\n",
    "        self.k = k\n",
    "        self.tokens: Set[str] = set()\n",
    "        self.token_spam_counts: Dict[str, int] = defaultdict(int)\n",
    "        self.token_ham_counts: Dict[str, int] = defaultdict(int)\n",
    "        self.spam_messages = self.ham_messages = 0\n",
    "\n",
    "    def train(self, messages: Iterable[Message]) -> None:\n",
    "        for message in messages:\n",
    "            if message.is_spam:\n",
    "                self.spam_messages += 1\n",
    "            else:\n",
    "                self.ham_messages += 1\n",
    "\n",
    "            for token in tokenize(message.text):\n",
    "                self.tokens.add(token)\n",
    "                if message.is_spam:\n",
    "                    self.token_spam_counts[token] += 1\n",
    "                else:\n",
    "                    self.token_ham_counts[token] += 1\n",
    "\n",
    "    def _probabilities(self, token: str) -> Tuple[float, float]:\n",
    "        spam = self.token_spam_counts[token]\n",
    "        ham = self.token_ham_counts[token]\n",
    "        p_token_spam = (spam + self.k) / (self.spam_messages + 2 * self.k)\n",
    "        p_token_ham = (ham + self.k) / (self.ham_messages + 2 * self.k)\n",
    "        return p_token_spam, p_token_ham\n",
    "\n",
    "    def predict(self, text: str) -> float:\n",
    "        text_tokens = tokenize(text)\n",
    "        log_prob_if_spam = log_prob_if_ham = 0.0\n",
    "\n",
    "        for token in self.tokens:\n",
    "            prob_if_spam, prob_if_ham = self._probabilities(token)\n",
    "\n",
    "            if token in text_tokens:\n",
    "                log_prob_if_spam += math.log(prob_if_spam)\n",
    "                log_prob_if_ham += math.log(prob_if_ham)\n",
    "            else:\n",
    "                log_prob_if_spam += math.log(1.0 - prob_if_spam)\n",
    "                log_prob_if_ham += math.log(1.0 - prob_if_ham)\n",
    "\n",
    "        prob_if_spam = math.exp(log_prob_if_spam)\n",
    "        prob_if_ham = math.exp(log_prob_if_ham)\n",
    "        return prob_if_spam / (prob_if_spam + prob_if_ham)"
   ]
  },
  {
   "cell_type": "markdown",
   "metadata": {},
   "source": [
    "Kelas ini mengatur model dan metode untuk melatih model dengan data yang diberikan.\n"
   ]
  },
  {
   "cell_type": "markdown",
   "metadata": {},
   "source": [
    "**3.3. Training Model:**\n",
    "\n",
    "Berikutnya, kita latih model Naïve Bayesian menggunakan data karyawan yang telah diberikan."
   ]
  },
  {
   "cell_type": "code",
   "execution_count": 6,
   "metadata": {},
   "outputs": [],
   "source": [
    "# Data training dari tabel\n",
    "data_training = [\n",
    "    (\"laki-laki 20 8.000.000 single kendaraan pribadi\", False),\n",
    "    (\"laki-laki 35 14.000.000 single kendaraan umum\", True),\n",
    "    (\"perempuan 26 10.000.000 single kendaraan umum\", True),\n",
    "    (\"perempuan 27 12.000.000 menikah kendaraan pribadi\", False),\n",
    "    (\"laki-laki 21 9.000.000 single kendaraan pribadi\", False),\n",
    "    (\"laki-laki 22 11.000.000 single kendaraan pribadi\", False),\n",
    "    (\"perempuan 32 15.000.000 menikah kendaraan umum\", True),\n",
    "    (\"perempuan 26 8.000.000 menikah kendaraan umum\", True),\n",
    "    (\"laki-laki 25 9.000.000 single kendaraan umum\", True),\n",
    "    (\"perempuan 20 10.000.000 single kendaraan pribadi\", False),\n",
    "]\n",
    "\n",
    "# Menyusun data training menjadi bentuk pesan (Message)\n",
    "messages = [Message(text, is_spam) for text, is_spam in data_training]\n",
    "\n",
    "# Melatih model\n",
    "model = NaiveBayesClassifier(k=0.5)\n",
    "model.train(messages)\n"
   ]
  },
  {
   "cell_type": "markdown",
   "metadata": {},
   "source": [
    "Langkah ini menciptakan dan melatih model dengan data yang telah di-tokenisasi untuk memahami pola dan korelasi antara atribut-atribut tersebut.\n"
   ]
  },
  {
   "cell_type": "markdown",
   "metadata": {},
   "source": [
    "**4. Prediksi untuk Data Baru:**\n",
    "\n",
    "Selanjutnya, kita dapat menggunakan model yang telah dilatih untuk melakukan prediksi terhadap dua data karyawan baru."
   ]
  },
  {
   "cell_type": "code",
   "execution_count": 7,
   "metadata": {},
   "outputs": [
    {
     "name": "stdout",
     "output_type": "stream",
     "text": [
      "Prediksi untuk data ke-11: Kendaraan Umum\n",
      "Prediksi untuk data ke-12: Kendaraan Pribadi\n"
     ]
    }
   ],
   "source": [
    "text_data_11 = \"Perempuan 27 12.000.000 Single ?\"\n",
    "text_data_12 = \"Laki-Laki 35 14.000.000 Menikah ?\"\n",
    "\n",
    "prediction_11 = model.predict(text_data_11)\n",
    "prediction_12 = model.predict(text_data_12)\n",
    "\n",
    "# Menetapkan batasan misalnya jika probabilitas > 0.5, maka kendaraan pribadi; jika probabilitas <= 0.5, maka kendaraan umum.\n",
    "result_11 = \"Kendaraan Pribadi\" if prediction_11 > 0.5 else \"Kendaraan Umum\"\n",
    "result_12 = \"Kendaraan Pribadi\" if prediction_12 > 0.5 else \"Kendaraan Umum\"\n",
    "\n",
    "print(\"Prediksi untuk data ke-11:\", result_11)\n",
    "print(\"Prediksi untuk data ke-12:\", result_12)"
   ]
  },
  {
   "cell_type": "markdown",
   "metadata": {},
   "source": [
    "Langkah ini memberikan contoh penggunaan model untuk memprediksi jenis transportasi untuk dua data karyawan baru berdasarkan hasil pelatihan model."
   ]
  },
  {
   "cell_type": "markdown",
   "metadata": {},
   "source": [
    "**5. Hasil Prediksi:**\n",
    "\n",
    "Hasil prediksi akan menunjukkan jenis transportasi yang diprediksi untuk data baru ke-11 dan ke-12 berdasarkan model Naïve Bayesian yang sudah dilatih."
   ]
  },
  {
   "cell_type": "code",
   "execution_count": null,
   "metadata": {},
   "outputs": [],
   "source": []
  }
 ],
 "metadata": {
  "kernelspec": {
   "display_name": "bol_datascience_course",
   "language": "python",
   "name": "python3"
  },
  "language_info": {
   "codemirror_mode": {
    "name": "ipython",
    "version": 3
   },
   "file_extension": ".py",
   "mimetype": "text/x-python",
   "name": "python",
   "nbconvert_exporter": "python",
   "pygments_lexer": "ipython3",
   "version": "3.8.18"
  }
 },
 "nbformat": 4,
 "nbformat_minor": 2
}
