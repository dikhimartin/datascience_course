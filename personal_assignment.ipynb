{
 "cells": [
  {
   "cell_type": "code",
   "execution_count": 1,
   "metadata": {},
   "outputs": [],
   "source": [
    "from typing import NamedTuple, Set\n",
    "import re"
   ]
  },
  {
   "cell_type": "code",
   "execution_count": 2,
   "metadata": {},
   "outputs": [],
   "source": [
    "def tokenize(text: str) -> Set[str]:\n",
    "    text = text.lower()                         # Mengubah teks menjadi huruf kecil,\n",
    "    all_words = re.findall(\"[a-z0-9']+\", text)  # mengekstrak kata-kata, dan\n",
    "    return set(all_words)                       # mengembalikan set kata unik."
   ]
  },
  {
   "cell_type": "code",
   "execution_count": 5,
   "metadata": {},
   "outputs": [],
   "source": [
    "from typing import List, Tuple, Dict, Iterable\n",
    "import math\n",
    "from collections import defaultdict\n",
    "\n",
    "class Message(NamedTuple):\n",
    "    text: str\n",
    "    is_spam: bool\n",
    "\n",
    "class NaiveBayesClassifier:\n",
    "    def __init__(self, k: float = 0.5) -> None:\n",
    "        self.k = k\n",
    "        self.tokens: Set[str] = set()\n",
    "        self.token_spam_counts: Dict[str, int] = defaultdict(int)\n",
    "        self.token_ham_counts: Dict[str, int] = defaultdict(int)\n",
    "        self.spam_messages = self.ham_messages = 0\n",
    "\n",
    "    def train(self, messages: Iterable[Message]) -> None:\n",
    "        for message in messages:\n",
    "            if message.is_spam:\n",
    "                self.spam_messages += 1\n",
    "            else:\n",
    "                self.ham_messages += 1\n",
    "\n",
    "            for token in tokenize(message.text):\n",
    "                self.tokens.add(token)\n",
    "                if message.is_spam:\n",
    "                    self.token_spam_counts[token] += 1\n",
    "                else:\n",
    "                    self.token_ham_counts[token] += 1\n",
    "\n",
    "    def _probabilities(self, token: str) -> Tuple[float, float]:\n",
    "        spam = self.token_spam_counts[token]\n",
    "        ham = self.token_ham_counts[token]\n",
    "        p_token_spam = (spam + self.k) / (self.spam_messages + 2 * self.k)\n",
    "        p_token_ham = (ham + self.k) / (self.ham_messages + 2 * self.k)\n",
    "        return p_token_spam, p_token_ham\n",
    "\n",
    "    def predict(self, text: str) -> float:\n",
    "        text_tokens = tokenize(text)\n",
    "        log_prob_if_spam = log_prob_if_ham = 0.0\n",
    "\n",
    "        for token in self.tokens:\n",
    "            prob_if_spam, prob_if_ham = self._probabilities(token)\n",
    "\n",
    "            if token in text_tokens:\n",
    "                log_prob_if_spam += math.log(prob_if_spam)\n",
    "                log_prob_if_ham += math.log(prob_if_ham)\n",
    "            else:\n",
    "                log_prob_if_spam += math.log(1.0 - prob_if_spam)\n",
    "                log_prob_if_ham += math.log(1.0 - prob_if_ham)\n",
    "\n",
    "        prob_if_spam = math.exp(log_prob_if_spam)\n",
    "        prob_if_ham = math.exp(log_prob_if_ham)\n",
    "        return prob_if_spam / (prob_if_spam + prob_if_ham)"
   ]
  },
  {
   "cell_type": "code",
   "execution_count": 12,
   "metadata": {},
   "outputs": [],
   "source": [
    "# Data training dari tabel\n",
    "data_training = [\n",
    "    (\"laki-laki 20 8.000.000 single kendaraan pribadi\", False),\n",
    "    (\"laki-laki 35 14.000.000 single kendaraan umum\", True),\n",
    "    (\"perempuan 26 10.000.000 single kendaraan umum\", True),\n",
    "    (\"perempuan 27 12.000.000 menikah kendaraan pribadi\", False),\n",
    "    (\"laki-laki 21 9.000.000 single kendaraan pribadi\", False),\n",
    "    (\"laki-laki 22 11.000.000 single kendaraan pribadi\", False),\n",
    "    (\"perempuan 32 15.000.000 menikah kendaraan umum\", True),\n",
    "    (\"perempuan 26 8.000.000 menikah kendaraan umum\", True),\n",
    "    (\"laki-laki 25 9.000.000 single kendaraan umum\", True),\n",
    "    (\"perempuan 20 10.000.000 single kendaraan pribadi\", False),\n",
    "]\n",
    "\n",
    "# Menyusun data training menjadi bentuk pesan (Message)\n",
    "messages = [Message(text, is_spam) for text, is_spam in data_training]\n",
    "\n",
    "# Melatih model\n",
    "model = NaiveBayesClassifier(k=0.5)\n",
    "model.train(messages)\n"
   ]
  },
  {
   "cell_type": "code",
   "execution_count": 20,
   "metadata": {},
   "outputs": [
    {
     "name": "stdout",
     "output_type": "stream",
     "text": [
      "Prediksi untuk data ke-11: Kendaraan Umum\n",
      "Prediksi untuk data ke-12: Kendaraan Pribadi\n"
     ]
    }
   ],
   "source": [
    "text_data_11 = \"Perempuan 27 12.000.000 Single ?\"\n",
    "text_data_12 = \"Laki-Laki 35 14.000.000 Menikah ?\"\n",
    "\n",
    "prediction_11 = model.predict(text_data_11)\n",
    "prediction_12 = model.predict(text_data_12)\n",
    "\n",
    "# Menetapkan batasan misalnya jika probabilitas > 0.5, maka kendaraan pribadi; jika probabilitas <= 0.5, maka kendaraan umum.\n",
    "result_11 = \"Kendaraan Pribadi\" if prediction_11 > 0.5 else \"Kendaraan Umum\"\n",
    "result_12 = \"Kendaraan Pribadi\" if prediction_12 > 0.5 else \"Kendaraan Umum\"\n",
    "\n",
    "print(\"Prediksi untuk data ke-11:\", result_11)\n",
    "print(\"Prediksi untuk data ke-12:\", result_12)"
   ]
  }
 ],
 "metadata": {
  "kernelspec": {
   "display_name": "bol_datascience_course",
   "language": "python",
   "name": "python3"
  },
  "language_info": {
   "codemirror_mode": {
    "name": "ipython",
    "version": 3
   },
   "file_extension": ".py",
   "mimetype": "text/x-python",
   "name": "python",
   "nbconvert_exporter": "python",
   "pygments_lexer": "ipython3",
   "version": "3.8.18"
  }
 },
 "nbformat": 4,
 "nbformat_minor": 2
}
