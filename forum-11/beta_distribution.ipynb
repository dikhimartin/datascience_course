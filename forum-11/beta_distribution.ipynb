{
 "cells": [
  {
   "cell_type": "markdown",
   "metadata": {},
   "source": [
    "## Beta Distribution"
   ]
  },
  {
   "cell_type": "code",
   "execution_count": 1,
   "metadata": {},
   "outputs": [],
   "source": [
    "import numpy as np\n",
    "from scipy.stats import beta as beta_dist"
   ]
  },
  {
   "cell_type": "markdown",
   "metadata": {},
   "source": [
    "Sebuah pedagang daging di pasar selama 50 hari berhasil menjual 100 daging. Berapakah 95 confidence interval daging yang dijual dalam 1 bulan?"
   ]
  },
  {
   "cell_type": "code",
   "execution_count": 2,
   "metadata": {},
   "outputs": [],
   "source": [
    "# Jumlah hari dan daging yang terjual\n",
    "days = 50\n",
    "total_sales = 100"
   ]
  },
  {
   "cell_type": "code",
   "execution_count": 7,
   "metadata": {},
   "outputs": [],
   "source": [
    "# Memastikan nilai positif untuk parameter distribusi Beta\n",
    "alpha = max(total_sales, 1)  # Menetapkan nilai minimum 1 untuk alpha\n",
    "beta = max(days - total_sales, 1)  # Menetapkan nilai minimum 1 untuk beta"
   ]
  },
  {
   "cell_type": "code",
   "execution_count": 8,
   "metadata": {},
   "outputs": [],
   "source": [
    "# Menghitung 95% Confidence Interval untuk distribusi Beta\n",
    "lower_bound = beta_dist.ppf(0.025, alpha, beta)\n",
    "upper_bound = beta_dist.ppf(0.975, alpha, beta)"
   ]
  },
  {
   "cell_type": "code",
   "execution_count": 5,
   "metadata": {},
   "outputs": [],
   "source": [
    "# Menghitung jumlah daging yang diharapkan terjual dalam 1 bulan (30 hari)\n",
    "expected_sales_per_day = alpha / days * 30"
   ]
  },
  {
   "cell_type": "code",
   "execution_count": 6,
   "metadata": {},
   "outputs": [
    {
     "name": "stdout",
     "output_type": "stream",
     "text": [
      "Parameter distribusi Beta (alpha, beta): (100, -50)\n",
      "95% Confidence Interval untuk jumlah daging terjual: (nan, nan)\n",
      "Jumlah daging yang diharapkan terjual dalam 1 bulan (30 hari): 60.0\n"
     ]
    }
   ],
   "source": [
    "# Menampilkan hasil\n",
    "print(\"Parameter distribusi Beta (alpha, beta):\", (alpha, beta))\n",
    "print(\"95% Confidence Interval untuk jumlah daging terjual:\", (lower_bound, upper_bound))\n",
    "print(\"Jumlah daging yang diharapkan terjual dalam 1 bulan (30 hari):\", expected_sales_per_day)"
   ]
  },
  {
   "cell_type": "code",
   "execution_count": 97,
   "metadata": {},
   "outputs": [
    {
     "data": {
      "text/plain": [
       "(100, -50)"
      ]
     },
     "execution_count": 97,
     "metadata": {},
     "output_type": "execute_result"
    }
   ],
   "source": [
    "alpha, beta, lower_bound, upper_bound"
   ]
  }
 ],
 "metadata": {
  "kernelspec": {
   "display_name": "bol_datascience_course",
   "language": "python",
   "name": "python3"
  },
  "language_info": {
   "codemirror_mode": {
    "name": "ipython",
    "version": 3
   },
   "file_extension": ".py",
   "mimetype": "text/x-python",
   "name": "python",
   "nbconvert_exporter": "python",
   "pygments_lexer": "ipython3",
   "version": "3.8.18"
  }
 },
 "nbformat": 4,
 "nbformat_minor": 2
}
