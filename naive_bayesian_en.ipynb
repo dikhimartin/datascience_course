{
 "cells": [
  {
   "cell_type": "markdown",
   "metadata": {},
   "source": [
    "**Naïve Bayesian for Employee Transportation Classification:**"
   ]
  },
  {
   "cell_type": "markdown",
   "metadata": {},
   "source": [
    "**1. Introduction:**\n",
    "\n",
    "In this case, we will utilize the Naïve Bayesian method to classify the type of transportation used by employees in a company based on several attributes such as gender, age, salary, marital status, and previous transportation choice.\n",
    "\n",
    "**2. Employee Data:**\n",
    "\n",
    "Below is the employee data that will be used to train the model and predict the type of transportation for two new data entries:\n",
    "\n",
    "| No.  | Jenis Kelamin | Umur Karyawan | Gaji       | Status  | Transportasi      |\n",
    "| ---- | ------------- | ------------- | ---------- | ------- | ----------------- |\n",
    "| 1    | Laki-Laki     | 20            | 8.000.000  | Single  | Kendaraan pribadi |\n",
    "| 2    | Laki-Laki     | 35            | 14.000.000 | Single  | Kendaraan umum    |\n",
    "| 3    | Perempuan     | 26            | 10.000.000 | Single  | Kendaraan umum    |\n",
    "| 4    | Perempuan     | 27            | 12.000.000 | Menikah | Kendaraan pribadi |\n",
    "| 5    | Laki-Laki     | 21            | 9.000.000  | Single  | Kendaraan pribadi |\n",
    "| 6    | Laki-Laki     | 22            | 11.000.000 | Single  | Kendaraan pribadi |\n",
    "| 7    | Perempuan     | 32            | 15.000.000 | Menikah | Kendaraan umum    |\n",
    "| 8    | Perempuan     | 26            | 8.000.000  | Menikah | Kendaraan umum    |\n",
    "| 9    | Laki-Laki     | 25            | 9.000.000  | Single  | Kendaraan umum    |\n",
    "| 10   | Perempuan     | 20            | 10.000.000 | Single  | Kendaraan pribadi |\n",
    "| 11   | Perempuan     | 27            | 12.000.000 | Single  | ?                 |\n",
    "| 12   | Laki-Laki     | 35            | 14.000.000 | Menikah | ?                 |"
   ]
  },
  {
   "cell_type": "markdown",
   "metadata": {},
   "source": [
    "**3. Naïve Bayesian Implementation:**"
   ]
  },
  {
   "cell_type": "markdown",
   "metadata": {},
   "source": [
    "**3.1. Import Library and Tokenization Function:**\n",
    "\n",
    "In this step, we import the necessary libraries and define a specific function for tokenization."
   ]
  },
  {
   "cell_type": "code",
   "execution_count": 1,
   "metadata": {},
   "outputs": [],
   "source": [
    "from typing import NamedTuple, Set\n",
    "import re"
   ]
  },
  {
   "cell_type": "markdown",
   "metadata": {},
   "source": [
    "The `tokenize` function is implemented to break the text into tokens (unique words) and return a set of these tokens. Tokenization is crucial in this context as it transforms the text, such as employee attributes, into a form that can be further processed by the Naïve Bayesian model."
   ]
  },
  {
   "cell_type": "code",
   "execution_count": 2,
   "metadata": {},
   "outputs": [],
   "source": [
    "def tokenize(text: str) -> Set[str]:\n",
    "    text = text.lower()                         # Convert text to lowercase,\n",
    "    all_words = re.findall(\"[a-z0-9']+\", text)  # extract words, and\n",
    "    return set(all_words)                       # return a set of unique words."
   ]
  },
  {
   "cell_type": "markdown",
   "metadata": {},
   "source": [
    "This function contributes to data preparation for model training and prediction by providing a token representation of the text."
   ]
  },
  {
   "cell_type": "markdown",
   "metadata": {},
   "source": [
    "**3.2. Definition of Message Class and NaiveBayesClassifier:**\n",
    "\n",
    "In this step, we define the `Message` class to represent messages or data used in model training. The `NaiveBayesClassifier` class is an implementation of the Naïve Bayesian model for classification."
   ]
  },
  {
   "cell_type": "code",
   "execution_count": 3,
   "metadata": {},
   "outputs": [],
   "source": [
    "from typing import List, Tuple, Dict, Iterable\n",
    "import math\n",
    "from collections import defaultdict\n",
    "\n",
    "class Message(NamedTuple):\n",
    "    text: str\n",
    "    is_spam: bool\n",
    "\n",
    "class NaiveBayesClassifier:\n",
    "    def __init__(self, k: float = 0.5) -> None:\n",
    "        self.k = k\n",
    "        self.tokens: Set[str] = set()\n",
    "        self.token_spam_counts: Dict[str, int] = defaultdict(int)\n",
    "        self.token_ham_counts: Dict[str, int] = defaultdict(int)\n",
    "        self.spam_messages = self.ham_messages = 0\n",
    "\n",
    "    def train(self, messages: Iterable[Message]) -> None:\n",
    "        for message in messages:\n",
    "            if message.is_spam:\n",
    "                self.spam_messages += 1\n",
    "            else:\n",
    "                self.ham_messages += 1\n",
    "\n",
    "            for token in tokenize(message.text):\n",
    "                self.tokens.add(token)\n",
    "                if message.is_spam:\n",
    "                    self.token_spam_counts[token] += 1\n",
    "                else:\n",
    "                    self.token_ham_counts[token] += 1\n",
    "\n",
    "    def _probabilities(self, token: str) -> Tuple[float, float]:\n",
    "        spam = self.token_spam_counts[token]\n",
    "        ham = self.token_ham_counts[token]\n",
    "        p_token_spam = (spam + self.k) / (self.spam_messages + 2 * self.k)\n",
    "        p_token_ham = (ham + self.k) / (self.ham_messages + 2 * self.k)\n",
    "        return p_token_spam, p_token_ham\n",
    "\n",
    "    def predict(self, text: str) -> float:\n",
    "        text_tokens = tokenize(text)\n",
    "        log_prob_if_spam = log_prob_if_ham = 0.0\n",
    "\n",
    "        for token in self.tokens:\n",
    "            prob_if_spam, prob_if_ham = self._probabilities(token)\n",
    "\n",
    "            if token in text_tokens:\n",
    "                log_prob_if_spam += math.log(prob_if_spam)\n",
    "                log_prob_if_ham += math.log(prob_if_ham)\n",
    "            else:\n",
    "                log_prob_if_spam += math.log(1.0 - prob_if_spam)\n",
    "                log_prob_if_ham += math.log(1.0 - prob_if_ham)\n",
    "\n",
    "        prob_if_spam = math.exp(log_prob_if_spam)\n",
    "        prob_if_ham = math.exp(log_prob_if_ham)\n",
    "        return prob_if_spam / (prob_if_spam + prob_if_ham)"
   ]
  },
  {
   "cell_type": "markdown",
   "metadata": {},
   "source": [
    "This class organizes the model and methods to train the model with the provided data."
   ]
  },
  {
   "cell_type": "markdown",
   "metadata": {},
   "source": [
    "**3.3. Training Model:**\n",
    "\n",
    "Next, we train the Naïve Bayesian model using the tokenized employee data."
   ]
  },
  {
   "cell_type": "code",
   "execution_count": 4,
   "metadata": {},
   "outputs": [],
   "source": [
    "# Training data from the table\n",
    "training_data = [\n",
    "    (\"male 20 8,000,000 single private vehicle\", False),\n",
    "    (\"male 35 14,000,000 single public transport\", True),\n",
    "    (\"female 26 10,000,000 single public transport\", True),\n",
    "    (\"female 27 12,000,000 married private vehicle\", False),\n",
    "    (\"male 21 9,000,000 single private vehicle\", False),\n",
    "    (\"male 22 11,000,000 single private vehicle\", False),\n",
    "    (\"female 32 15,000,000 married public transport\", True),\n",
    "    (\"female 26 8,000,000 married public transport\", True),\n",
    "    (\"male 25 9,000,000 single public transport\", True),\n",
    "    (\"female 20 10,000,000 single private vehicle\", False),\n",
    "]\n",
    "\n",
    "# Organizing training data into Message format\n",
    "messages = [Message(text, is_spam) for text, is_spam in training_data]\n",
    "\n",
    "# Training the model\n",
    "model = NaiveBayesClassifier(k=0.5)\n",
    "model.train(messages)\n"
   ]
  },
  {
   "cell_type": "markdown",
   "metadata": {},
   "source": [
    "This step creates and trains the model with the tokenized data to understand patterns and correlations between the attributes."
   ]
  },
  {
   "cell_type": "markdown",
   "metadata": {},
   "source": [
    "**4. Prediction for New Data:**\n",
    "\n",
    "Subsequently, we use the trained model to predict the type of transportation for two new employee data entries."
   ]
  },
  {
   "cell_type": "code",
   "execution_count": 8,
   "metadata": {},
   "outputs": [
    {
     "name": "stdout",
     "output_type": "stream",
     "text": [
      "Prediksi untuk data ke-11: Kendaraan Umum a\n",
      "Prediksi untuk data ke-12: Kendaraan Pribadi\n"
     ]
    }
   ],
   "source": [
    "text_data_11 = \"Perempuan 27 12.000.000 Single ?\"\n",
    "text_data_12 = \"Laki-Laki 35 14.000.000 Menikah ?\"\n",
    "\n",
    "prediction_11 = model.predict(text_data_11)\n",
    "prediction_12 = model.predict(text_data_12)\n",
    "\n",
    "# Setting a threshold, e.g., if probability > 0.5, then private vehicle; if probability <= 0.5, then public transport.\n",
    "result_11 = \"Kendaraan Pribadi\" if prediction_11 > 0.5 else \"Kendaraan Umum\"\n",
    "result_12 = \"Kendaraan Pribadi\" if prediction_12 > 0.5 else \"Kendaraan Umum\"\n",
    "\n",
    "print(\"Prediksi untuk data ke-11:\", result_11)\n",
    "print(\"Prediksi untuk data ke-12:\", result_12)"
   ]
  },
  {
   "cell_type": "markdown",
   "metadata": {},
   "source": [
    "This step provides an example of using the model to predict the type of transportation for two new employee data entries based on the trained model."
   ]
  },
  {
   "cell_type": "markdown",
   "metadata": {},
   "source": [
    "**5. Prediction Results:**\n",
    "\n",
    "The prediction results indicate the type of transportation predicted for the new data entries 11 and 12 based on the trained Naïve Bayesian model."
   ]
  },
  {
   "cell_type": "code",
   "execution_count": null,
   "metadata": {},
   "outputs": [],
   "source": []
  }
 ],
 "metadata": {
  "kernelspec": {
   "display_name": "bol_datascience_course",
   "language": "python",
   "name": "python3"
  },
  "language_info": {
   "codemirror_mode": {
    "name": "ipython",
    "version": 3
   },
   "file_extension": ".py",
   "mimetype": "text/x-python",
   "name": "python",
   "nbconvert_exporter": "python",
   "pygments_lexer": "ipython3",
   "version": "3.8.18"
  }
 },
 "nbformat": 4,
 "nbformat_minor": 2
}
